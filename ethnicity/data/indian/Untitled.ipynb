{
 "cells": [
  {
   "cell_type": "code",
   "execution_count": 5,
   "metadata": {},
   "outputs": [],
   "source": [
    "import pandas as pd\n",
    "import json\n",
    "from unidecode import unidecode"
   ]
  },
  {
   "cell_type": "code",
   "execution_count": 12,
   "metadata": {},
   "outputs": [],
   "source": [
    "ppl1 = pd.read_csv('/Users/ik/Data/names/training-greek.csv')\n",
    "ppl1 = ppl1[ppl1['is_greek'] == 1]\n",
    "ppl_set1 = {unidecode(s) for s in set(ppl1['full_name'])}\n",
    "\n",
    "ppl2 = {unidecode(line.strip()) for line in open('/Users/ik/Codes/chinese-superleague-scraper/collected_data/players_greece.txt','r').readlines() if line.strip()}\n",
    "\n",
    "ppl = list(ppl_set1 | ppl2)"
   ]
  },
  {
   "cell_type": "code",
   "execution_count": 13,
   "metadata": {},
   "outputs": [
    {
     "data": {
      "text/plain": [
       "['dimitrios moraitakis',\n",
       " 'christina sachinidou',\n",
       " 'lefteris choutesiotis',\n",
       " 'alexandros nikolias',\n",
       " 'vasileios liolios',\n",
       " 'vasilios polianidis',\n",
       " 'panagiotis diamantopoulos',\n",
       " 'themis rigas',\n",
       " 'apostolos siaravas',\n",
       " 'thodoris berios']"
      ]
     },
     "execution_count": 13,
     "metadata": {},
     "output_type": "execute_result"
    }
   ],
   "source": [
    "ppl[:10]"
   ]
  },
  {
   "cell_type": "code",
   "execution_count": 14,
   "metadata": {},
   "outputs": [
    {
     "name": "stdout",
     "output_type": "stream",
     "text": [
      "903\n"
     ]
    }
   ],
   "source": [
    "with open('/Users/ik/Codes/ethnicity/ethnicity/data/greek/full_names/full_names_.txt','w') as f:\n",
    "    for s in ppl:\n",
    "        f.write(f'{s}\\n')\n",
    "    print(len(ppl))"
   ]
  },
  {
   "cell_type": "code",
   "execution_count": null,
   "metadata": {},
   "outputs": [],
   "source": []
  }
 ],
 "metadata": {
  "kernelspec": {
   "display_name": "Python 3",
   "language": "python",
   "name": "python3"
  },
  "language_info": {
   "codemirror_mode": {
    "name": "ipython",
    "version": 3
   },
   "file_extension": ".py",
   "mimetype": "text/x-python",
   "name": "python",
   "nbconvert_exporter": "python",
   "pygments_lexer": "ipython3",
   "version": "3.6.5"
  }
 },
 "nbformat": 4,
 "nbformat_minor": 2
}
